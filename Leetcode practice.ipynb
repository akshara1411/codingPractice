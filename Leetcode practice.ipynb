{
 "cells": [
  {
   "cell_type": "code",
   "execution_count": 30,
   "metadata": {},
   "outputs": [],
   "source": [
    " def getIntersectionNode(headA, headB):\n",
    "    a =len(headA)\n",
    "    b= len(headB)\n",
    "    for i in range(a):\n",
    "        for j in range(b):\n",
    "             if headA[i]==headB[j]:\n",
    "                print(\"The intersection starts at:\",headA[i])\n",
    "        break"
   ]
  },
  {
   "cell_type": "code",
   "execution_count": 31,
   "metadata": {},
   "outputs": [],
   "source": [
    "headA=[1,2,3,4,5]\n",
    "headB=[6,7,3,4,5]"
   ]
  },
  {
   "cell_type": "code",
   "execution_count": 32,
   "metadata": {},
   "outputs": [],
   "source": [
    "getIntersectionNode(headA,headB)"
   ]
  },
  {
   "cell_type": "code",
   "execution_count": 33,
   "metadata": {},
   "outputs": [],
   "source": [
    "def oddEvenList(head):\n",
    "    head1 = []\n",
    "    head2 = []\n",
    "    head3 = []\n",
    "    a = len(head)\n",
    "    for i in range(a):\n",
    "        if i%2 == 0:\n",
    "            head1.append(head[i])\n",
    "        else:\n",
    "            head2.append(head[i])\n",
    "    head3 = [*head1,*head2]\n",
    "    print(head3)"
   ]
  },
  {
   "cell_type": "code",
   "execution_count": 34,
   "metadata": {},
   "outputs": [],
   "source": [
    "head = [1,2,3,4,5]"
   ]
  },
  {
   "cell_type": "code",
   "execution_count": 35,
   "metadata": {},
   "outputs": [
    {
     "name": "stdout",
     "output_type": "stream",
     "text": [
      "[1, 3, 5, 2, 4]\n"
     ]
    }
   ],
   "source": [
    "oddEvenList(head)"
   ]
  },
  {
   "cell_type": "code",
   "execution_count": 99,
   "metadata": {},
   "outputs": [],
   "source": [
    " def reverseBetween(head, m, n):\n",
    "        for i in range(m,n):\n",
    "            t = head[i]\n",
    "            head[i] = head[n]\n",
    "            head[n] = t\n",
    "            n=n-1\n",
    "        print(head)"
   ]
  },
  {
   "cell_type": "code",
   "execution_count": 100,
   "metadata": {},
   "outputs": [
    {
     "name": "stdout",
     "output_type": "stream",
     "text": [
      "[1, 2, 5, 4, 3]\n"
     ]
    }
   ],
   "source": [
    "reverseBetween(head,2,4)"
   ]
  },
  {
   "cell_type": "code",
   "execution_count": 25,
   "metadata": {},
   "outputs": [],
   "source": [
    "def medianOfArray(num1,num2):\n",
    "    a = len(num1)\n",
    "    b = len(num2)\n",
    "    x=0\n",
    "    y = 0\n",
    "    for i in range(a):\n",
    "        x = x+num1[i]\n",
    "    for j in range(b):\n",
    "        y = y+num2[j]\n",
    "    z = x/a\n",
    "    w = y/b\n",
    "    q = (z+w)/2\n",
    "    print(q)\n",
    "    \n",
    "        "
   ]
  },
  {
   "cell_type": "code",
   "execution_count": 18,
   "metadata": {},
   "outputs": [],
   "source": [
    "num1 = [1,2,3,4]\n",
    "num2 = [5,6,7,8]"
   ]
  },
  {
   "cell_type": "code",
   "execution_count": 26,
   "metadata": {},
   "outputs": [
    {
     "name": "stdout",
     "output_type": "stream",
     "text": [
      "4.5\n"
     ]
    }
   ],
   "source": [
    "medianOfArray(num1,num2)"
   ]
  },
  {
   "cell_type": "code",
   "execution_count": 9,
   "metadata": {},
   "outputs": [
    {
     "name": "stdout",
     "output_type": "stream",
     "text": [
      "[[-1, 0, 1]]\n",
      "[[-1, 2, -1]]\n",
      "[[-1, -1, 2]]\n",
      "[[0, 1, -1]]\n",
      "[[0, -1, 1]]\n",
      "[[1, 0, -1]]\n",
      "[[2, 2, -4]]\n",
      "[[2, -1, -1]]\n",
      "[[2, -4, 2]]\n",
      "[[-1, 0, 1]]\n",
      "[[-1, 2, -1]]\n",
      "[[-1, -1, 2]]\n",
      "[[-4, 2, 2]]\n"
     ]
    }
   ],
   "source": [
    "class Solution:\n",
    "    def threeSum(self, nums):\n",
    "        n = len(nums)\n",
    "        for i in range(n):\n",
    "            for j in range(1,n):\n",
    "                for k in range(2,n):\n",
    "                    if(nums[i] + nums[j] + nums[k] == 0 ):\n",
    "                        a = nums[i]\n",
    "                        b = nums[j]\n",
    "                        c = nums[k]\n",
    "                        nums1 = [a,b,c]\n",
    "                        print([nums1])\n",
    "        \n",
    "nums = [-1,0,1,2,-1,-4]\n",
    "p1 = Solution()\n",
    "p1.threeSum(nums)"
   ]
  },
  {
   "cell_type": "code",
   "execution_count": 43,
   "metadata": {},
   "outputs": [],
   "source": [
    "\n",
    "def look_and_say(data, maxlen):\n",
    "  if (maxlen == 1): \n",
    "      return \"1\"\n",
    "  if (maxlen == 2): \n",
    "      return \"11\"\n",
    "  s = \"11\" \n",
    "  for i in range(3, maxlen + 1):\n",
    "    s = \"11\"\n",
    "    print(s)  \n",
    "    s += '$'\n",
    "    l = len(s) \n",
    "    cnt = 1\n",
    "    tmp = \"\"\n",
    "    for j in range(1 , l): \n",
    "        if (s[j] != s[j - 1]): \n",
    "            tmp += str(cnt + 0)  \n",
    "            tmp += s[j - 1] \n",
    "            cnt = 1 \n",
    "        else: \n",
    "            cnt += 1\n",
    "        s = tmp\n",
    "    print(s)\n",
    "  return s; "
   ]
  },
  {
   "cell_type": "code",
   "execution_count": 44,
   "metadata": {},
   "outputs": [
    {
     "name": "stdout",
     "output_type": "stream",
     "text": [
      "11\n"
     ]
    },
    {
     "ename": "IndexError",
     "evalue": "string index out of range",
     "output_type": "error",
     "traceback": [
      "\u001b[1;31m---------------------------------------------------------------------------\u001b[0m",
      "\u001b[1;31mIndexError\u001b[0m                                Traceback (most recent call last)",
      "\u001b[1;32m<ipython-input-44-86536af87f28>\u001b[0m in \u001b[0;36m<module>\u001b[1;34m\u001b[0m\n\u001b[1;32m----> 1\u001b[1;33m \u001b[0mlook_and_say\u001b[0m\u001b[1;33m(\u001b[0m\u001b[1;36m1\u001b[0m\u001b[1;33m,\u001b[0m\u001b[1;36m10\u001b[0m\u001b[1;33m)\u001b[0m\u001b[1;33m\u001b[0m\u001b[1;33m\u001b[0m\u001b[0m\n\u001b[0m",
      "\u001b[1;32m<ipython-input-43-a059c764cc01>\u001b[0m in \u001b[0;36mlook_and_say\u001b[1;34m(data, maxlen)\u001b[0m\n\u001b[0;32m     13\u001b[0m     \u001b[0mtmp\u001b[0m \u001b[1;33m=\u001b[0m \u001b[1;34m\"\"\u001b[0m\u001b[1;33m\u001b[0m\u001b[1;33m\u001b[0m\u001b[0m\n\u001b[0;32m     14\u001b[0m     \u001b[1;32mfor\u001b[0m \u001b[0mj\u001b[0m \u001b[1;32min\u001b[0m \u001b[0mrange\u001b[0m\u001b[1;33m(\u001b[0m\u001b[1;36m1\u001b[0m \u001b[1;33m,\u001b[0m \u001b[0ml\u001b[0m\u001b[1;33m)\u001b[0m\u001b[1;33m:\u001b[0m\u001b[1;33m\u001b[0m\u001b[1;33m\u001b[0m\u001b[0m\n\u001b[1;32m---> 15\u001b[1;33m         \u001b[1;32mif\u001b[0m \u001b[1;33m(\u001b[0m\u001b[0ms\u001b[0m\u001b[1;33m[\u001b[0m\u001b[0mj\u001b[0m\u001b[1;33m]\u001b[0m \u001b[1;33m!=\u001b[0m \u001b[0ms\u001b[0m\u001b[1;33m[\u001b[0m\u001b[0mj\u001b[0m \u001b[1;33m-\u001b[0m \u001b[1;36m1\u001b[0m\u001b[1;33m]\u001b[0m\u001b[1;33m)\u001b[0m\u001b[1;33m:\u001b[0m\u001b[1;33m\u001b[0m\u001b[1;33m\u001b[0m\u001b[0m\n\u001b[0m\u001b[0;32m     16\u001b[0m             \u001b[0mtmp\u001b[0m \u001b[1;33m+=\u001b[0m \u001b[0mstr\u001b[0m\u001b[1;33m(\u001b[0m\u001b[0mcnt\u001b[0m \u001b[1;33m+\u001b[0m \u001b[1;36m0\u001b[0m\u001b[1;33m)\u001b[0m\u001b[1;33m\u001b[0m\u001b[1;33m\u001b[0m\u001b[0m\n\u001b[0;32m     17\u001b[0m             \u001b[0mtmp\u001b[0m \u001b[1;33m+=\u001b[0m \u001b[0ms\u001b[0m\u001b[1;33m[\u001b[0m\u001b[0mj\u001b[0m \u001b[1;33m-\u001b[0m \u001b[1;36m1\u001b[0m\u001b[1;33m]\u001b[0m\u001b[1;33m\u001b[0m\u001b[1;33m\u001b[0m\u001b[0m\n",
      "\u001b[1;31mIndexError\u001b[0m: string index out of range"
     ]
    }
   ],
   "source": [
    "look_and_say(1,10)"
   ]
  },
  {
   "cell_type": "code",
   "execution_count": 74,
   "metadata": {},
   "outputs": [],
   "source": [
    "def look_and_say(number, maxlen=11):\n",
    "    result = \"\"\n",
    "    repeat = number[0]\n",
    "    def countdata(number)\n",
    "        number = number[1:]+\" \"\n",
    "        times = 1\n",
    "        for actual in number:\n",
    "            if actual != repeat:\n",
    "                result += str(times)+repeat\n",
    "                times = 1\n",
    "                repeat = actual\n",
    "            else:\n",
    "                times += 1\n",
    "        return result\n",
    "        "
   ]
  },
  {
   "cell_type": "code",
   "execution_count": 75,
   "metadata": {},
   "outputs": [
    {
     "name": "stdout",
     "output_type": "stream",
     "text": [
      "1\n"
     ]
    },
    {
     "ename": "TypeError",
     "evalue": "'int' object is not iterable",
     "output_type": "error",
     "traceback": [
      "\u001b[1;31m---------------------------------------------------------------------------\u001b[0m",
      "\u001b[1;31mTypeError\u001b[0m                                 Traceback (most recent call last)",
      "\u001b[1;32m<ipython-input-75-8791457e3c65>\u001b[0m in \u001b[0;36m<module>\u001b[1;34m\u001b[0m\n\u001b[0;32m      1\u001b[0m \u001b[0mnum\u001b[0m \u001b[1;33m=\u001b[0m \u001b[1;34m\"1\"\u001b[0m\u001b[1;33m\u001b[0m\u001b[1;33m\u001b[0m\u001b[0m\n\u001b[0;32m      2\u001b[0m \u001b[0mprint\u001b[0m \u001b[1;33m(\u001b[0m\u001b[0mnum\u001b[0m\u001b[1;33m)\u001b[0m\u001b[1;33m\u001b[0m\u001b[1;33m\u001b[0m\u001b[0m\n\u001b[1;32m----> 3\u001b[1;33m \u001b[0mnum\u001b[0m \u001b[1;33m=\u001b[0m \u001b[0mlook_and_say\u001b[0m\u001b[1;33m(\u001b[0m\u001b[0mnum\u001b[0m\u001b[1;33m,\u001b[0m \u001b[1;36m11\u001b[0m\u001b[1;33m)\u001b[0m\u001b[1;33m\u001b[0m\u001b[1;33m\u001b[0m\u001b[0m\n\u001b[0m",
      "\u001b[1;32m<ipython-input-74-66f629b497e5>\u001b[0m in \u001b[0;36mlook_and_say\u001b[1;34m(number, maxlen)\u001b[0m\n\u001b[0;32m      4\u001b[0m     \u001b[0mnumber\u001b[0m \u001b[1;33m=\u001b[0m \u001b[0mnumber\u001b[0m\u001b[1;33m[\u001b[0m\u001b[1;36m1\u001b[0m\u001b[1;33m:\u001b[0m\u001b[1;33m]\u001b[0m\u001b[1;33m+\u001b[0m\u001b[1;34m\" \"\u001b[0m\u001b[1;33m\u001b[0m\u001b[1;33m\u001b[0m\u001b[0m\n\u001b[0;32m      5\u001b[0m     \u001b[0mtimes\u001b[0m \u001b[1;33m=\u001b[0m \u001b[1;36m1\u001b[0m\u001b[1;33m\u001b[0m\u001b[1;33m\u001b[0m\u001b[0m\n\u001b[1;32m----> 6\u001b[1;33m     \u001b[1;32mfor\u001b[0m \u001b[0mactual\u001b[0m \u001b[1;32min\u001b[0m \u001b[0mmaxlen\u001b[0m\u001b[1;33m:\u001b[0m\u001b[1;33m\u001b[0m\u001b[1;33m\u001b[0m\u001b[0m\n\u001b[0m\u001b[0;32m      7\u001b[0m         \u001b[1;32mif\u001b[0m \u001b[0mactual\u001b[0m \u001b[1;33m!=\u001b[0m \u001b[0mrepeat\u001b[0m\u001b[1;33m:\u001b[0m\u001b[1;33m\u001b[0m\u001b[1;33m\u001b[0m\u001b[0m\n\u001b[0;32m      8\u001b[0m             \u001b[0mresult\u001b[0m \u001b[1;33m+=\u001b[0m \u001b[0mstr\u001b[0m\u001b[1;33m(\u001b[0m\u001b[0mtimes\u001b[0m\u001b[1;33m)\u001b[0m\u001b[1;33m+\u001b[0m\u001b[0mrepeat\u001b[0m\u001b[1;33m\u001b[0m\u001b[1;33m\u001b[0m\u001b[0m\n",
      "\u001b[1;31mTypeError\u001b[0m: 'int' object is not iterable"
     ]
    }
   ],
   "source": [
    "num = \"1\"\n",
    "print (num)\n",
    "num = look_and_say(num, 11)"
   ]
  },
  {
   "cell_type": "code",
   "execution_count": 85,
   "metadata": {},
   "outputs": [],
   "source": [
    "\n",
    "def look_and_say(data, maxlen=5):\n",
    "    sequence = \"\"\n",
    "    count = 1\n",
    "    def countdata(data):\n",
    "      newData = ''\n",
    "      for i in range(len(str(data))):\n",
    "        if(data[i+1] == data[i]):\n",
    "          count = count +1\n",
    "        else:\n",
    "          newData += str(count) + data[i]\n",
    "          count = 1\n",
    "      return newData\n",
    "    if(maxlen == 1 and len(str(data)) == 1):\n",
    "      sequence += str(count) + data\n",
    "      return sequence\n",
    "    if(maxlen == 1):\n",
    "      sequence += countdata(data)\n",
    "      return sequence\n",
    "    if(maxlen > 1):\n",
    "      result = countdata(data)\n",
    "      sequence += result + ','\n",
    "      sequence += look_and_say(result,maxlen-1)\n",
    "    return sequence.split(',')"
   ]
  },
  {
   "cell_type": "code",
   "execution_count": 86,
   "metadata": {},
   "outputs": [
    {
     "ename": "TypeError",
     "evalue": "'int' object is not subscriptable",
     "output_type": "error",
     "traceback": [
      "\u001b[1;31m---------------------------------------------------------------------------\u001b[0m",
      "\u001b[1;31mTypeError\u001b[0m                                 Traceback (most recent call last)",
      "\u001b[1;32m<ipython-input-86-8d72fc135028>\u001b[0m in \u001b[0;36m<module>\u001b[1;34m\u001b[0m\n\u001b[1;32m----> 1\u001b[1;33m \u001b[0mlook_and_say\u001b[0m\u001b[1;33m(\u001b[0m\u001b[1;36m1\u001b[0m\u001b[1;33m,\u001b[0m\u001b[1;36m5\u001b[0m\u001b[1;33m)\u001b[0m\u001b[1;33m\u001b[0m\u001b[1;33m\u001b[0m\u001b[0m\n\u001b[0m",
      "\u001b[1;32m<ipython-input-85-7e31ea45f588>\u001b[0m in \u001b[0;36mlook_and_say\u001b[1;34m(data, maxlen)\u001b[0m\n\u001b[0;32m     18\u001b[0m       \u001b[1;32mreturn\u001b[0m \u001b[0msequence\u001b[0m\u001b[1;33m\u001b[0m\u001b[1;33m\u001b[0m\u001b[0m\n\u001b[0;32m     19\u001b[0m     \u001b[1;32mif\u001b[0m\u001b[1;33m(\u001b[0m\u001b[0mmaxlen\u001b[0m \u001b[1;33m>\u001b[0m \u001b[1;36m1\u001b[0m\u001b[1;33m)\u001b[0m\u001b[1;33m:\u001b[0m\u001b[1;33m\u001b[0m\u001b[1;33m\u001b[0m\u001b[0m\n\u001b[1;32m---> 20\u001b[1;33m       \u001b[0mresult\u001b[0m \u001b[1;33m=\u001b[0m \u001b[0mcountdata\u001b[0m\u001b[1;33m(\u001b[0m\u001b[0mdata\u001b[0m\u001b[1;33m)\u001b[0m\u001b[1;33m\u001b[0m\u001b[1;33m\u001b[0m\u001b[0m\n\u001b[0m\u001b[0;32m     21\u001b[0m       \u001b[0msequence\u001b[0m \u001b[1;33m+=\u001b[0m \u001b[0mresult\u001b[0m \u001b[1;33m+\u001b[0m \u001b[1;34m','\u001b[0m\u001b[1;33m\u001b[0m\u001b[1;33m\u001b[0m\u001b[0m\n\u001b[0;32m     22\u001b[0m       \u001b[0msequence\u001b[0m \u001b[1;33m+=\u001b[0m \u001b[0mlook_and_say\u001b[0m\u001b[1;33m(\u001b[0m\u001b[0mresult\u001b[0m\u001b[1;33m,\u001b[0m\u001b[0mmaxlen\u001b[0m\u001b[1;33m-\u001b[0m\u001b[1;36m1\u001b[0m\u001b[1;33m)\u001b[0m\u001b[1;33m\u001b[0m\u001b[1;33m\u001b[0m\u001b[0m\n",
      "\u001b[1;32m<ipython-input-85-7e31ea45f588>\u001b[0m in \u001b[0;36mcountdata\u001b[1;34m(data)\u001b[0m\n\u001b[0;32m      5\u001b[0m       \u001b[0mnewData\u001b[0m \u001b[1;33m=\u001b[0m \u001b[1;34m''\u001b[0m\u001b[1;33m\u001b[0m\u001b[1;33m\u001b[0m\u001b[0m\n\u001b[0;32m      6\u001b[0m       \u001b[1;32mfor\u001b[0m \u001b[0mi\u001b[0m \u001b[1;32min\u001b[0m \u001b[0mrange\u001b[0m\u001b[1;33m(\u001b[0m\u001b[0mlen\u001b[0m\u001b[1;33m(\u001b[0m\u001b[0mstr\u001b[0m\u001b[1;33m(\u001b[0m\u001b[0mdata\u001b[0m\u001b[1;33m)\u001b[0m\u001b[1;33m)\u001b[0m\u001b[1;33m)\u001b[0m\u001b[1;33m:\u001b[0m\u001b[1;33m\u001b[0m\u001b[1;33m\u001b[0m\u001b[0m\n\u001b[1;32m----> 7\u001b[1;33m         \u001b[1;32mif\u001b[0m\u001b[1;33m(\u001b[0m\u001b[0mdata\u001b[0m\u001b[1;33m[\u001b[0m\u001b[0mi\u001b[0m\u001b[1;33m+\u001b[0m\u001b[1;36m1\u001b[0m\u001b[1;33m]\u001b[0m \u001b[1;33m==\u001b[0m \u001b[0mdata\u001b[0m\u001b[1;33m[\u001b[0m\u001b[0mi\u001b[0m\u001b[1;33m]\u001b[0m\u001b[1;33m)\u001b[0m\u001b[1;33m:\u001b[0m\u001b[1;33m\u001b[0m\u001b[1;33m\u001b[0m\u001b[0m\n\u001b[0m\u001b[0;32m      8\u001b[0m           \u001b[0mcount\u001b[0m \u001b[1;33m=\u001b[0m \u001b[0mcount\u001b[0m \u001b[1;33m+\u001b[0m\u001b[1;36m1\u001b[0m\u001b[1;33m\u001b[0m\u001b[1;33m\u001b[0m\u001b[0m\n\u001b[0;32m      9\u001b[0m         \u001b[1;32melse\u001b[0m\u001b[1;33m:\u001b[0m\u001b[1;33m\u001b[0m\u001b[1;33m\u001b[0m\u001b[0m\n",
      "\u001b[1;31mTypeError\u001b[0m: 'int' object is not subscriptable"
     ]
    }
   ],
   "source": [
    "look_and_say(1,5)"
   ]
  },
  {
   "cell_type": "raw",
   "metadata": {},
   "source": [
    "def mix(s1,s2):\n",
    "\talpha = 'abcdefghijklmnopqrstuvwxyz'\n",
    "\tcount1 = []\n",
    "\tcount2 = []\n",
    "\tmax1 = []\n",
    "\tmax2 = []\n",
    "\tequal = []\n",
    "\tform1 = []\n",
    "\tform2 = []\n",
    "\tforme = []\n",
    "\t\n",
    "\tfor letter in alpha:\n",
    "\t\tlets = list(filter(lambda x: x == letter, s1))\n",
    "\t\tcount1.append(lets)\n",
    "\tfor letter in alpha:\n",
    "\t\tlets = list(filter(lambda x: x == letter, s2))\n",
    "\t\tcount2.append(lets)\n",
    "\t\t\t\n",
    "\tfor i in range(0,len(count1)):\n",
    "\t\tif len(count1[i]) == len(count2[i]) and len(count1[i]) > 1:\n",
    "\t\t\tequal.append(count1[i])\n",
    "\t\telif len(count1[i]) > len(count2[i]) and len(count1[i]) > 1:\n",
    "\t\t\tmax1.append(count1[i])\n",
    "\t\telif len(count1[i]) < len(count2[i]) and len(count2[i]) > 1:\n",
    "\t\t\tmax2.append(count2[i])\n",
    "\t\n",
    "\tfor items in max1:\n",
    "\t\tform1.append('1:' + items[0]*len(items))\n",
    "\tfor items in max2:\n",
    "\t\tform2.append('2:' + items[0]*len(items))\n",
    "\tfor items in equal:\n",
    "\t\tforme.append('=:' + items[0]*len(items))\n",
    "\t\t\n",
    "\tfinal = form1 + form2 + forme\n",
    "\tfinal.sort(key=len, reverse=True)\n",
    "\treturn '/'.join(final)"
   ]
  },
  {
   "cell_type": "code",
   "execution_count": 96,
   "metadata": {},
   "outputs": [],
   "source": [
    "def sum(num1,num2):\n",
    "    a =len(num1)\n",
    "    b= len(num2)\n",
    "    c = []\n",
    "    p = 0\n",
    "    for i in range(a-1,0):\n",
    "        for j in range(b-1,0):\n",
    "            if (a[i] + b[j] > 10):\n",
    "                d = a[i] + b[j] \n",
    "                c[i] = d%10 + p\n",
    "                p = 1\n",
    "            else:\n",
    "                c[i] = a[i] + b[j]\n",
    "        print(c[i])\n",
    "        return c[i]\n",
    "    "
   ]
  },
  {
   "cell_type": "code",
   "execution_count": 97,
   "metadata": {},
   "outputs": [],
   "source": [
    "a = [1,2,3]\n",
    "b = [4,5,6]\n",
    "sum(a,b)"
   ]
  },
  {
   "cell_type": "code",
   "execution_count": 127,
   "metadata": {},
   "outputs": [],
   "source": [
    "def addTwoNumbers(l1, l2):\n",
    "    a =len(l1)\n",
    "    print(a)\n",
    "    b= len(l2)\n",
    "    print(b)\n",
    "    c = []\n",
    "    p = 0\n",
    "    for i in range(a-1,0):\n",
    "        for j in range(b-1,0):\n",
    "            if (a[i] + b[j] > 10):\n",
    "                d = a[i] + b[j] \n",
    "                c[i] = d%10 + p\n",
    "                p = 1\n",
    "            else:\n",
    "                c[i] = a[i] + b[j]\n",
    "        print(c[i])\n",
    "        return c[i]"
   ]
  },
  {
   "cell_type": "code",
   "execution_count": 128,
   "metadata": {},
   "outputs": [
    {
     "name": "stdout",
     "output_type": "stream",
     "text": [
      "3\n",
      "3\n"
     ]
    }
   ],
   "source": [
    "l1 = [1,2,3]\n",
    "l2 = [4,5,6]\n",
    "addTwoNumbers(l1,l2)"
   ]
  },
  {
   "cell_type": "code",
   "execution_count": 74,
   "metadata": {},
   "outputs": [],
   "source": [
    "def is_isogram1(s):\n",
    "    if(s == None):\n",
    "        return True\n",
    "    b = list(s)\n",
    "    a = 0\n",
    "    print(b)\n",
    "    for i in range(len(b)):\n",
    "        for j in reversed(range(len(b))):\n",
    "            if(i == j):\n",
    "                j = j-1\n",
    "                if(b[i].isupper()== True):\n",
    "                    b[i] = b[i].lower()\n",
    "                    print(b[i])\n",
    "                    if(b[i] == b[j]):\n",
    "                        return False\n",
    "                        a = 1\n",
    "                if(b[i] == b[j]):\n",
    "                    return False\n",
    "                    a = 1\n",
    "            if(b[i].isupper()== True):\n",
    "                b[i] = b[i].lower()\n",
    "                print(b[i])\n",
    "                if(b[i] == b[j]):\n",
    "                    return False\n",
    "                    a = 1\n",
    "                if(b[i] == b[j]):\n",
    "                    return False\n",
    "                    a = 1\n",
    "    if (a == 0):\n",
    "        return True"
   ]
  },
  {
   "cell_type": "code",
   "execution_count": 104,
   "metadata": {},
   "outputs": [
    {
     "ename": "NameError",
     "evalue": "name 'is_isogram2' is not defined",
     "output_type": "error",
     "traceback": [
      "\u001b[1;31m---------------------------------------------------------------------------\u001b[0m",
      "\u001b[1;31mNameError\u001b[0m                                 Traceback (most recent call last)",
      "\u001b[1;32m<ipython-input-104-bd839e21e2ec>\u001b[0m in \u001b[0;36m<module>\u001b[1;34m\u001b[0m\n\u001b[0;32m      1\u001b[0m \u001b[0ma\u001b[0m \u001b[1;33m=\u001b[0m \u001b[1;34m\"aba\"\u001b[0m\u001b[1;33m\u001b[0m\u001b[1;33m\u001b[0m\u001b[0m\n\u001b[1;32m----> 2\u001b[1;33m \u001b[0mis_isogram2\u001b[0m\u001b[1;33m(\u001b[0m\u001b[0ma\u001b[0m\u001b[1;33m)\u001b[0m\u001b[1;33m\u001b[0m\u001b[1;33m\u001b[0m\u001b[0m\n\u001b[0m",
      "\u001b[1;31mNameError\u001b[0m: name 'is_isogram2' is not defined"
     ]
    }
   ],
   "source": [
    "a = \"aba\"\n",
    "is_isogram2(a)"
   ]
  },
  {
   "cell_type": "code",
   "execution_count": 105,
   "metadata": {},
   "outputs": [],
   "source": [
    "def is_isogram(s):\n",
    "    if(s == None):\n",
    "        return True\n",
    "    b = list(s)\n",
    "    c = b\n",
    "    a = 0\n",
    "    x = len(b)\n",
    "    y = len(c)\n",
    "    print(x)\n",
    "    print(b)\n",
    "    print(c)\n",
    "    for i in range(0,x):\n",
    "        for j in range(0,y):\n",
    "            if(i == j):\n",
    "                j = j+1\n",
    "                if(b[i].isupper()== True):\n",
    "                    b[i] = b[i].lower()\n",
    "                    if(b[i] == c[j]):\n",
    "                        a = 1\n",
    "                        return False\n",
    "                if(b[i] == c[j]):\n",
    "                    a = 1\n",
    "                    return False\n",
    "            if(b[i].isupper()== True):\n",
    "                b[i] = b[i].lower()\n",
    "                if(b[i] == c[j]):\n",
    "                    a =1\n",
    "                    return False\n",
    "                if(b[i] == c[j]):\n",
    "                    a =1\n",
    "                    return False\n",
    "    if (a == 0):\n",
    "        return True\n",
    "                \n",
    "            "
   ]
  },
  {
   "cell_type": "code",
   "execution_count": 110,
   "metadata": {},
   "outputs": [],
   "source": [
    "def is_isogram2(s):\n",
    "    if(s == None):\n",
    "        return True\n",
    "    b = list(s)\n",
    "    c = b\n",
    "    a = 0\n",
    "    i = 0\n",
    "    j = 0\n",
    "    while(i == len(b)-1):\n",
    "        while(j == len(c)-1):\n",
    "            if(i == j):\n",
    "                j = j+1\n",
    "                if(b[i].isupper()== True):\n",
    "                    b[i] = b[i].lower()\n",
    "                    if(b[i] == c[j]):\n",
    "                        a = 1\n",
    "                        j = j+1\n",
    "                if(b[i] == c[j]):\n",
    "                    a = 1\n",
    "                    j = j+1\n",
    "            if(b[i].isupper()== True):\n",
    "                b[i] = b[i].lower()\n",
    "                if(b[i] == c[j]):\n",
    "                    a =1\n",
    "                    j = j+1\n",
    "                if(b[i] == c[j]):\n",
    "                    a = 1 \n",
    "                    j = j+1\n",
    "        i = i+1\n",
    "    if (a == 0):\n",
    "        return True\n",
    "    if (a ==1):\n",
    "        return False  "
   ]
  },
  {
   "cell_type": "code",
   "execution_count": 111,
   "metadata": {},
   "outputs": [
    {
     "data": {
      "text/plain": [
       "True"
      ]
     },
     "execution_count": 111,
     "metadata": {},
     "output_type": "execute_result"
    }
   ],
   "source": [
    "a = \"aba\"\n",
    "is_isogram2(a)"
   ]
  },
  {
   "cell_type": "code",
   "execution_count": 144,
   "metadata": {},
   "outputs": [],
   "source": [
    "def likes(names):\n",
    "    if(names == None):\n",
    "        return('No one likes this')\n",
    "    elif(len(names) == 1):\n",
    "        return(names,'likes this')\n",
    "    elif(len(names) == 2):\n",
    "        return(names[0]+\" and \"+ names[1]+\" likes this\")\n",
    "    elif(len(names) == 3):\n",
    "        return(names[0]+\" \"+names[1]+\" and \"+names[2]+\" likes this\")\n",
    "    else:\n",
    "        b = len(names)\n",
    "        c = b-2\n",
    "        return(names[0]+\" \"+names[1]+\" and \"+str(c)+\" other likes this\")\n",
    "        "
   ]
  },
  {
   "cell_type": "code",
   "execution_count": 145,
   "metadata": {},
   "outputs": [
    {
     "data": {
      "text/plain": [
       "'hi hello and 2 other likes this'"
      ]
     },
     "execution_count": 145,
     "metadata": {},
     "output_type": "execute_result"
    }
   ],
   "source": [
    "names = ['hi','hello','how','why']\n",
    "likes(names)"
   ]
  },
  {
   "cell_type": "code",
   "execution_count": 42,
   "metadata": {},
   "outputs": [],
   "source": [
    "def sockMerchant(n, ar):\n",
    "    c = []\n",
    "    for i in range(0,n):\n",
    "        for j in range(1,n):\n",
    "            if(ar[i] == ar[j]):\n",
    "                c = ar[i]          \n",
    "    d = len(str(c))\n",
    "    return d"
   ]
  },
  {
   "cell_type": "code",
   "execution_count": null,
   "metadata": {},
   "outputs": [],
   "source": []
  },
  {
   "cell_type": "code",
   "execution_count": 40,
   "metadata": {},
   "outputs": [],
   "source": [
    "def scorer(a):\n",
    "    score = 0\n",
    "    if (int(a) % 3 == 0):\n",
    "        score = score + 4\n",
    "    flag = 0\n",
    "    b = [int(i) for i in str(a)]\n",
    "    print(b)\n",
    "    for i in (b):\n",
    "        if(b[i] % 2 == 0 oe b[i] == 0 ):\n",
    "            score = score + 3\n",
    "        if(b[i] == 7):\n",
    "            score = score + 5\n",
    "        if(b[i] == 2 and b[i+1] == 2)\n",
    "            score = score + 6\n",
    "            flag = 1\n",
    "        if(flag  == 1 and b[i+2] == 2)\n",
    "            score = score + 6\n",
    "        if()\n",
    "    return score\n",
    "        \n",
    "        \n",
    "    "
   ]
  },
  {
   "cell_type": "code",
   "execution_count": 41,
   "metadata": {},
   "outputs": [
    {
     "name": "stdout",
     "output_type": "stream",
     "text": [
      "[1, 2, 3, 4]\n"
     ]
    },
    {
     "ename": "IndexError",
     "evalue": "list index out of range",
     "output_type": "error",
     "traceback": [
      "\u001b[1;31m---------------------------------------------------------------------------\u001b[0m",
      "\u001b[1;31mIndexError\u001b[0m                                Traceback (most recent call last)",
      "\u001b[1;32m<ipython-input-41-fb627002138b>\u001b[0m in \u001b[0;36m<module>\u001b[1;34m\u001b[0m\n\u001b[0;32m      1\u001b[0m \u001b[0ma\u001b[0m \u001b[1;33m=\u001b[0m \u001b[1;34m'1234'\u001b[0m\u001b[1;33m\u001b[0m\u001b[1;33m\u001b[0m\u001b[0m\n\u001b[1;32m----> 2\u001b[1;33m \u001b[0mscorer\u001b[0m\u001b[1;33m(\u001b[0m\u001b[0ma\u001b[0m\u001b[1;33m)\u001b[0m\u001b[1;33m\u001b[0m\u001b[1;33m\u001b[0m\u001b[0m\n\u001b[0m",
      "\u001b[1;32m<ipython-input-40-b997c944c588>\u001b[0m in \u001b[0;36mscorer\u001b[1;34m(a)\u001b[0m\n\u001b[0;32m      4\u001b[0m     \u001b[0mprint\u001b[0m\u001b[1;33m(\u001b[0m\u001b[0mb\u001b[0m\u001b[1;33m)\u001b[0m\u001b[1;33m\u001b[0m\u001b[1;33m\u001b[0m\u001b[0m\n\u001b[0;32m      5\u001b[0m     \u001b[1;32mfor\u001b[0m \u001b[0mi\u001b[0m \u001b[1;32min\u001b[0m \u001b[1;33m(\u001b[0m\u001b[0mb\u001b[0m\u001b[1;33m)\u001b[0m\u001b[1;33m:\u001b[0m\u001b[1;33m\u001b[0m\u001b[1;33m\u001b[0m\u001b[0m\n\u001b[1;32m----> 6\u001b[1;33m         \u001b[1;32mif\u001b[0m\u001b[1;33m(\u001b[0m\u001b[0mb\u001b[0m\u001b[1;33m[\u001b[0m\u001b[0mi\u001b[0m\u001b[1;33m]\u001b[0m \u001b[1;33m==\u001b[0m \u001b[1;36m7\u001b[0m\u001b[1;33m)\u001b[0m\u001b[1;33m:\u001b[0m\u001b[1;33m\u001b[0m\u001b[1;33m\u001b[0m\u001b[0m\n\u001b[0m\u001b[0;32m      7\u001b[0m             \u001b[0mscore\u001b[0m \u001b[1;33m=\u001b[0m \u001b[0mscore\u001b[0m \u001b[1;33m+\u001b[0m \u001b[1;36m5\u001b[0m\u001b[1;33m\u001b[0m\u001b[1;33m\u001b[0m\u001b[0m\n\u001b[0;32m      8\u001b[0m \u001b[1;33m\u001b[0m\u001b[0m\n",
      "\u001b[1;31mIndexError\u001b[0m: list index out of range"
     ]
    }
   ],
   "source": [
    "a = '1234'\n",
    "scorer(a)"
   ]
  },
  {
   "cell_type": "code",
   "execution_count": 14,
   "metadata": {},
   "outputs": [
    {
     "name": "stdout",
     "output_type": "stream",
     "text": [
      "Enter a number4\n",
      "[1, 2, 3, 4]\n",
      "1234\n"
     ]
    }
   ],
   "source": [
    "a = []    \n",
    "n = int(input(\"Enter a number\"))\n",
    "for i in range(n):\n",
    "    a.append(i+1)\n",
    "strings = [str(j) for j in a]\n",
    "b = \"\".join(strings)\n",
    "c = int(b)\n",
    "print(c)"
   ]
  },
  {
   "cell_type": "code",
   "execution_count": 10,
   "metadata": {},
   "outputs": [
    {
     "name": "stdout",
     "output_type": "stream",
     "text": [
      "123\n"
     ]
    }
   ],
   "source": [
    "integers = [1, 2, 3]\n",
    "\n",
    "strings = [str(integer) for integer in integers]\n",
    "a_string = \"\".join(strings)\n",
    "an_integer = int(a_string)\n",
    "\n",
    "print(an_integer)"
   ]
  },
  {
   "cell_type": "markdown",
   "metadata": {},
   "source": [
    "# second max number in the list"
   ]
  },
  {
   "cell_type": "code",
   "execution_count": 3,
   "metadata": {},
   "outputs": [
    {
     "name": "stdout",
     "output_type": "stream",
     "text": [
      "5\n",
      "2 3 6 6 5\n",
      "5\n"
     ]
    }
   ],
   "source": [
    "if __name__ == '__main__':\n",
    "    n = int(input())\n",
    "    arr =map(int, input().split())\n",
    "    new = []\n",
    "    [new.append(x) for x in arr if x not in new]\n",
    "    new.remove(max(new))\n",
    "    print(max(new)) "
   ]
  },
  {
   "cell_type": "markdown",
   "metadata": {},
   "source": [
    "# Nested List (second max, student score)"
   ]
  },
  {
   "cell_type": "code",
   "execution_count": null,
   "metadata": {},
   "outputs": [],
   "source": [
    "marksheet=[]\n",
    "scorelist=[]\n",
    "if __name__ == '__main__':\n",
    "        for _ in range(int(input())):\n",
    "                name = input()\n",
    "                score = float(input())\n",
    "                marksheet+=[[name,score]]\n",
    "                scorelist+=[score]\n",
    "        b=sorted(list(set(scorelist)))[1] \n",
    "\n",
    "        for a,c in sorted(marksheet):\n",
    "            if c==b:\n",
    "                print(a)"
   ]
  },
  {
   "cell_type": "code",
   "execution_count": null,
   "metadata": {},
   "outputs": [],
   "source": [
    "import statistics;\n",
    "if __name__ == '__main__':\n",
    "    n = int(input())\n",
    "    student_marks = {} \n",
    "    for _ in range(n):\n",
    "        name, *line = input().split()\n",
    "        scores = list(map(float, line))\n",
    "        student_marks[name] = scores\n",
    "    query_name = input()\n",
    "    \n",
    "        #print(student_marks[query_name])\n",
    "    print(\"{:.2f}\".format(statistics.mean(student_marks[query_name])))"
   ]
  },
  {
   "cell_type": "code",
   "execution_count": 122,
   "metadata": {},
   "outputs": [],
   "source": [
    "def alphabet_position(text):\n",
    "    arr2 = []\n",
    "    arr = list(text)\n",
    "    print(arr)\n",
    "    for i in range(len(arr)):\n",
    "        arr2.append(ord(arr[i])-96)\n",
    "    print(' '.join([str(arr2)]))\n",
    "    return ' '.join([str(arr2)])"
   ]
  },
  {
   "cell_type": "code",
   "execution_count": 125,
   "metadata": {},
   "outputs": [
    {
     "name": "stdout",
     "output_type": "stream",
     "text": [
      "['t', 'h', 'e']\n",
      "[20, 8, 5]\n"
     ]
    },
    {
     "data": {
      "text/plain": [
       "'[20, 8, 5]'"
      ]
     },
     "execution_count": 125,
     "metadata": {},
     "output_type": "execute_result"
    }
   ],
   "source": [
    "alphabet_position(\"the\")"
   ]
  },
  {
   "cell_type": "code",
   "execution_count": 133,
   "metadata": {},
   "outputs": [],
   "source": [
    "def comp(array1, array2):\n",
    "    for i in range(len(array1)):\n",
    "        if((array1[i]*array1[i]) not in array2):\n",
    "            return False\n",
    "    return True\n",
    "    \n",
    "    \n",
    "    "
   ]
  },
  {
   "cell_type": "code",
   "execution_count": 134,
   "metadata": {},
   "outputs": [
    {
     "data": {
      "text/plain": [
       "True"
      ]
     },
     "execution_count": 134,
     "metadata": {},
     "output_type": "execute_result"
    }
   ],
   "source": [
    "a = [121, 144, 19, 161, 19, 144, 19, 11]  \n",
    "b = [121, 14641, 20736, 361, 25921, 361, 20736, 361]\n",
    "comp(a,b)"
   ]
  },
  {
   "cell_type": "code",
   "execution_count": 1,
   "metadata": {},
   "outputs": [],
   "source": [
    "    def findMedianSortedArrays(nums1, nums2):\n",
    "        sum1 = 0\n",
    "        sum2 = 0\n",
    "        avg1 = 0.0\n",
    "        avg2 = 0.0\n",
    "        avg = 0.0\n",
    "        for i in range(len(nums1)):\n",
    "            sum1 = sum1 + nums1[i]\n",
    "        for j in range(len(nums2)):\n",
    "            sum2 = sum2 + nums2[j]\n",
    "        avg1 = sum1/len(nums1)\n",
    "        avg2 = sum2/len(nums2)\n",
    "        avg = (avg1+avg2)/2\n",
    "        return avg\n",
    "        "
   ]
  },
  {
   "cell_type": "code",
   "execution_count": 2,
   "metadata": {},
   "outputs": [
    {
     "data": {
      "text/plain": [
       "2.5"
      ]
     },
     "execution_count": 2,
     "metadata": {},
     "output_type": "execute_result"
    }
   ],
   "source": [
    "nums1 = [1,2]\n",
    "nums2 = [3,4]\n",
    "findMedianSortedArrays(nums1, nums2)"
   ]
  },
  {
   "cell_type": "code",
   "execution_count": null,
   "metadata": {},
   "outputs": [],
   "source": []
  }
 ],
 "metadata": {
  "kernelspec": {
   "display_name": "Python 3",
   "language": "python",
   "name": "python3"
  },
  "language_info": {
   "codemirror_mode": {
    "name": "ipython",
    "version": 3
   },
   "file_extension": ".py",
   "mimetype": "text/x-python",
   "name": "python",
   "nbconvert_exporter": "python",
   "pygments_lexer": "ipython3",
   "version": "3.7.6"
  }
 },
 "nbformat": 4,
 "nbformat_minor": 2
}
